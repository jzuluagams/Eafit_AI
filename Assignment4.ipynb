{
  "nbformat": 4,
  "nbformat_minor": 0,
  "metadata": {
    "colab": {
      "provenance": []
    },
    "kernelspec": {
      "name": "python3",
      "display_name": "Python 3"
    },
    "language_info": {
      "name": "python"
    }
  },
  "cells": [
    {
      "cell_type": "code",
      "source": [
        "import pandas as pd"
      ],
      "metadata": {
        "id": "X3P7hxtAUKX4"
      },
      "execution_count": 61,
      "outputs": []
    },
    {
      "cell_type": "code",
      "source": [
        "# Load the Titanic dataset\n",
        "url = \"https://raw.githubusercontent.com/datasciencedojo/datasets/master/titanic.csv\"\n",
        "titanic_data = pd.read_csv(url)\n",
        "\n",
        "# Count the number of men and women\n",
        "gender_count = titanic_data['Sex'].value_counts()\n",
        "\n",
        "print(\"Number of men and women in the dataset:\")\n",
        "print(gender_count)"
      ],
      "metadata": {
        "colab": {
          "base_uri": "https://localhost:8080/"
        },
        "id": "ho8WTY5CW4_9",
        "outputId": "eb09f66b-098c-4087-951d-5908a9124d98"
      },
      "execution_count": 62,
      "outputs": [
        {
          "output_type": "stream",
          "name": "stdout",
          "text": [
            "Number of men and women in the dataset:\n",
            "Sex\n",
            "male      577\n",
            "female    314\n",
            "Name: count, dtype: int64\n"
          ]
        }
      ]
    },
    {
      "cell_type": "code",
      "source": [
        "# Most frequent age in the dataset\n",
        "most_frequent_age = titanic_data['Age'].mode()[0]\n",
        "\n",
        "print(\"Most frequent age in the dataset:\")\n",
        "print(most_frequent_age)"
      ],
      "metadata": {
        "colab": {
          "base_uri": "https://localhost:8080/"
        },
        "id": "XGyGRmu2XBml",
        "outputId": "c2a2eabb-b8de-4b4b-9cce-eeb2fd419aea"
      },
      "execution_count": 63,
      "outputs": [
        {
          "output_type": "stream",
          "name": "stdout",
          "text": [
            "Most frequent age in the dataset:\n",
            "24.0\n"
          ]
        }
      ]
    },
    {
      "cell_type": "code",
      "source": [
        "# Most frequent age among women\n",
        "most_frequent_age_women = titanic_data[titanic_data['Sex'] == 'female']['Age'].mode()[0]\n",
        "\n",
        "print(\"Most frequent age among women:\")\n",
        "print(most_frequent_age_women)"
      ],
      "metadata": {
        "colab": {
          "base_uri": "https://localhost:8080/"
        },
        "id": "wfk-Q0O7XKlo",
        "outputId": "069c54d8-2526-45ad-bfad-3d14573e6ce1"
      },
      "execution_count": 64,
      "outputs": [
        {
          "output_type": "stream",
          "name": "stdout",
          "text": [
            "Most frequent age among women:\n",
            "24.0\n"
          ]
        }
      ]
    },
    {
      "cell_type": "code",
      "source": [
        "# Most frequent age among men\n",
        "most_frequent_age_men = titanic_data[titanic_data['Sex'] == 'male']['Age'].mode()[0]\n",
        "\n",
        "print(\"Most frequent age among men:\")\n",
        "print(most_frequent_age_men)"
      ],
      "metadata": {
        "colab": {
          "base_uri": "https://localhost:8080/"
        },
        "id": "1pLtFxw1XShQ",
        "outputId": "a6a973a2-5531-408c-8736-3e76334aa925"
      },
      "execution_count": 65,
      "outputs": [
        {
          "output_type": "stream",
          "name": "stdout",
          "text": [
            "Most frequent age among men:\n",
            "19.0\n"
          ]
        }
      ]
    },
    {
      "cell_type": "code",
      "source": [
        "# Most common fare price\n",
        "most_common_fare = titanic_data['Fare'].mode()[0]\n",
        "\n",
        "print(\"Most common fare price:\")\n",
        "print(most_common_fare)"
      ],
      "metadata": {
        "colab": {
          "base_uri": "https://localhost:8080/"
        },
        "id": "RE0xByrdXa1f",
        "outputId": "f2b18a41-fba7-4f38-9af5-755bbff38cf7"
      },
      "execution_count": 66,
      "outputs": [
        {
          "output_type": "stream",
          "name": "stdout",
          "text": [
            "Most common fare price:\n",
            "8.05\n"
          ]
        }
      ]
    },
    {
      "cell_type": "code",
      "source": [
        "# Most common fare price among men and women\n",
        "most_common_fare_men = titanic_data[titanic_data['Sex'] == 'male']['Fare'].mode()[0]\n",
        "most_common_fare_women = titanic_data[titanic_data['Sex'] == 'female']['Fare'].mode()[0]\n",
        "\n",
        "print(\"Most common fare price among men:\")\n",
        "print(most_common_fare_men)\n",
        "print(\"Most common fare price among women:\")\n",
        "print(most_common_fare_women)"
      ],
      "metadata": {
        "colab": {
          "base_uri": "https://localhost:8080/"
        },
        "id": "r7KUXiHWXfd5",
        "outputId": "6c925f0c-04f2-4a9d-d21e-038b5ccdd9de"
      },
      "execution_count": 67,
      "outputs": [
        {
          "output_type": "stream",
          "name": "stdout",
          "text": [
            "Most common fare price among men:\n",
            "8.05\n",
            "Most common fare price among women:\n",
            "7.75\n"
          ]
        }
      ]
    },
    {
      "cell_type": "code",
      "source": [
        "# Defining age ranges\n",
        "bins = [0, 18, 30, 40, 50, 60, 80]\n",
        "labels = ['0-18', '19-30', '31-40', '41-50', '51-60', '61-80']\n",
        "titanic_data['AgeGroup'] = pd.cut(titanic_data['Age'], bins=bins, labels=labels)\n",
        "\n",
        "# Calculate average fare by age group and gender\n",
        "average_fare_by_age_gender = titanic_data.groupby(['AgeGroup', 'Sex'])['Fare'].mean().unstack()\n",
        "\n",
        "print(\"Average fare by age group and gender:\")\n",
        "print(average_fare_by_age_gender)"
      ],
      "metadata": {
        "colab": {
          "base_uri": "https://localhost:8080/"
        },
        "id": "27a2dgVAXo1f",
        "outputId": "efd9e693-d548-499d-ff98-7aee154b1ada"
      },
      "execution_count": 68,
      "outputs": [
        {
          "output_type": "stream",
          "name": "stdout",
          "text": [
            "Average fare by age group and gender:\n",
            "Sex          female       male\n",
            "AgeGroup                      \n",
            "0-18      36.765626  28.416023\n",
            "19-30     40.002963  20.757659\n",
            "31-40     62.090529  31.719164\n",
            "41-50     56.868823  32.310911\n",
            "51-60     69.522321  32.401043\n",
            "61-80     55.848600  39.085311\n"
          ]
        },
        {
          "output_type": "stream",
          "name": "stderr",
          "text": [
            "<ipython-input-68-5681ad5fc8e9>:7: FutureWarning: The default of observed=False is deprecated and will be changed to True in a future version of pandas. Pass observed=False to retain current behavior or observed=True to adopt the future default and silence this warning.\n",
            "  average_fare_by_age_gender = titanic_data.groupby(['AgeGroup', 'Sex'])['Fare'].mean().unstack()\n"
          ]
        }
      ]
    },
    {
      "cell_type": "markdown",
      "source": [
        "# **Te quiero mucho, Zulito.**"
      ],
      "metadata": {
        "id": "1MBGYIFeawDH"
      }
    }
  ]
}