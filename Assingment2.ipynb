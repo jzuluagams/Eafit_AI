{
  "nbformat": 4,
  "nbformat_minor": 0,
  "metadata": {
    "colab": {
      "provenance": []
    },
    "kernelspec": {
      "name": "python3",
      "display_name": "Python 3"
    },
    "language_info": {
      "name": "python"
    }
  },
  "cells": [
    {
      "cell_type": "code",
      "source": [
        "import pandas as pd"
      ],
      "metadata": {
        "id": "X3P7hxtAUKX4"
      },
      "execution_count": 10,
      "outputs": []
    },
    {
      "cell_type": "code",
      "execution_count": 11,
      "metadata": {
        "colab": {
          "base_uri": "https://localhost:8080/"
        },
        "id": "oe3QJxNRUEHa",
        "outputId": "0e146ea0-343e-4ecb-d4ac-b9a69b31d5da"
      },
      "outputs": [
        {
          "output_type": "stream",
          "name": "stdout",
          "text": [
            "Statistics for each column:\n",
            "                            mean         std    range   median\n",
            "Wine                    1.938202    0.775035     2.00    2.000\n",
            "Alcohol                13.000618    0.811827     3.80   13.050\n",
            "Malic.acid              2.336348    1.117146     5.06    1.865\n",
            "Ash                     2.366517    0.274344     1.87    2.360\n",
            "Acl                    19.494944    3.339564    19.40   19.500\n",
            "Mg                     99.741573   14.282484    92.00   98.000\n",
            "Phenols                 2.295112    0.625851     2.90    2.355\n",
            "Flavanoids              2.029270    0.998859     4.74    2.135\n",
            "Nonflavanoid.phenols    0.361854    0.124453     0.53    0.340\n",
            "Proanth                 1.590899    0.572359     3.17    1.555\n",
            "Color.int               5.058090    2.318286    11.72    4.690\n",
            "Hue                     0.957449    0.228572     1.23    0.965\n",
            "OD                      2.611685    0.709990     2.73    2.780\n",
            "Proline               746.893258  314.907474  1402.00  673.500\n"
          ]
        }
      ],
      "source": [
        "# Load the dataset\n",
        "url = \"https://gist.githubusercontent.com/tijptjik/9408623/raw/b237fa5848349a14a14e5d4107dc7897c21951f5/wine.csv\"\n",
        "wine_data = pd.read_csv(url)\n",
        "\n",
        "# Calculate required statistics for each column\n",
        "statistics = wine_data.describe().T[['mean', 'std']]\n",
        "statistics['range'] = wine_data.max() - wine_data.min()\n",
        "statistics['median'] = wine_data.median()\n",
        "\n",
        "# Display the calculated statistics\n",
        "print(\"Statistics for each column:\")\n",
        "print(statistics)"
      ]
    },
    {
      "cell_type": "code",
      "source": [
        "# Filter datasets as per instructions\n",
        "D1 = wine_data.iloc[:, [0, 3]]\n",
        "D2 = wine_data.iloc[:, [0, 1, -2, -1]]\n",
        "\n",
        "# Print D1 and D2\n",
        "print(\"\\nFiltered dataset D1 (First and Fourth columns):\")\n",
        "print(D1)\n",
        "\n",
        "print(\"\\nFiltered dataset D2 (First two and last two columns):\")\n",
        "print(D2)\n"
      ],
      "metadata": {
        "colab": {
          "base_uri": "https://localhost:8080/"
        },
        "id": "fRczgYz_Ucnh",
        "outputId": "ed7b8aa4-2a44-4798-b5b4-e26ea7c020f8"
      },
      "execution_count": 12,
      "outputs": [
        {
          "output_type": "stream",
          "name": "stdout",
          "text": [
            "\n",
            "Filtered dataset D1 (First and Fourth columns):\n",
            "     Wine   Ash\n",
            "0       1  2.43\n",
            "1       1  2.14\n",
            "2       1  2.67\n",
            "3       1  2.50\n",
            "4       1  2.87\n",
            "..    ...   ...\n",
            "173     3  2.45\n",
            "174     3  2.48\n",
            "175     3  2.26\n",
            "176     3  2.37\n",
            "177     3  2.74\n",
            "\n",
            "[178 rows x 2 columns]\n",
            "\n",
            "Filtered dataset D2 (First two and last two columns):\n",
            "     Wine  Alcohol    OD  Proline\n",
            "0       1    14.23  3.92     1065\n",
            "1       1    13.20  3.40     1050\n",
            "2       1    13.16  3.17     1185\n",
            "3       1    14.37  3.45     1480\n",
            "4       1    13.24  2.93      735\n",
            "..    ...      ...   ...      ...\n",
            "173     3    13.71  1.74      740\n",
            "174     3    13.40  1.56      750\n",
            "175     3    13.27  1.56      835\n",
            "176     3    13.17  1.62      840\n",
            "177     3    14.13  1.60      560\n",
            "\n",
            "[178 rows x 4 columns]\n"
          ]
        }
      ]
    },
    {
      "cell_type": "code",
      "source": [
        "# Filter and print values as per the condition\n",
        "for column in wine_data.columns:\n",
        "    mean = statistics.loc[column, 'mean']\n",
        "    std = statistics.loc[column, 'std']\n",
        "\n",
        "    upper_bound = mean + 2 * std\n",
        "    lower_bound = mean - 2 * std\n",
        "\n",
        "    filtered_values = wine_data[(wine_data[column] > upper_bound) | (wine_data[column] < lower_bound)]\n",
        "\n",
        "    print(f\"\\nValues in column '{column}' greater than mean + 2*std or less than mean - 2*std:\")\n",
        "    print(filtered_values[column].values)\n"
      ],
      "metadata": {
        "colab": {
          "base_uri": "https://localhost:8080/"
        },
        "id": "x75JIqEcVF5y",
        "outputId": "b95f6867-4844-4b08-a241-3a223545f4a9"
      },
      "execution_count": 13,
      "outputs": [
        {
          "output_type": "stream",
          "name": "stdout",
          "text": [
            "\n",
            "Values in column 'Wine' greater than mean + 2*std or less than mean - 2*std:\n",
            "[]\n",
            "\n",
            "Values in column 'Alcohol' greater than mean + 2*std or less than mean - 2*std:\n",
            "[14.83 14.75 11.03]\n",
            "\n",
            "Values in column 'Malic.acid' greater than mean + 2*std or less than mean - 2*std:\n",
            "[5.8  4.72 5.51 4.95 5.04 4.61 5.19 4.6  5.65]\n",
            "\n",
            "Values in column 'Ash' greater than mean + 2*std or less than mean - 2*std:\n",
            "[3.22 1.36 1.7  1.75 1.71 1.7  2.92 3.23]\n",
            "\n",
            "Values in column 'Acl' greater than mean + 2*std or less than mean - 2*std:\n",
            "[11.2 11.4 12.  12.4 10.6 30.  28.5 26.5 28.5 27. ]\n",
            "\n",
            "Values in column 'Mg' greater than mean + 2*std or less than mean - 2*std:\n",
            "[132 151 139 136  70 162 134]\n",
            "\n",
            "Values in column 'Phenols' greater than mean + 2*std or less than mean - 2*std:\n",
            "[3.85 3.88 0.98]\n",
            "\n",
            "Values in column 'Flavanoids' greater than mean + 2*std or less than mean - 2*std:\n",
            "[5.08]\n",
            "\n",
            "Values in column 'Nonflavanoid.phenols' greater than mean + 2*std or less than mean - 2*std:\n",
            "[0.63 0.66 0.63 0.63 0.63]\n",
            "\n",
            "Values in column 'Proanth' greater than mean + 2*std or less than mean - 2*std:\n",
            "[2.81 2.81 2.96 2.91 0.42 0.41 0.42 2.76 3.28 2.81 3.58 2.91]\n",
            "\n",
            "Values in column 'Color.int' greater than mean + 2*std or less than mean - 2*std:\n",
            "[10.8      10.52     13.       11.75     10.68     10.26      9.899999\n",
            "  9.7      10.2     ]\n",
            "\n",
            "Values in column 'Hue' greater than mean + 2*std or less than mean - 2*std:\n",
            "[1.45 1.42 1.71 0.48]\n",
            "\n",
            "Values in column 'OD' greater than mean + 2*std or less than mean - 2*std:\n",
            "[]\n",
            "\n",
            "Values in column 'Proline' greater than mean + 2*std or less than mean - 2*std:\n",
            "[1480 1450 1510 1547 1680 1515]\n"
          ]
        }
      ]
    }
  ]
}